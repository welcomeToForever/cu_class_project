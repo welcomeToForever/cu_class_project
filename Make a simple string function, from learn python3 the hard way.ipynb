{
 "cells": [
  {
   "cell_type": "markdown",
   "metadata": {},
   "source": [
    "# Make a simple string function\n"
   ]
  },
  {
   "cell_type": "code",
   "execution_count": 1,
   "metadata": {},
   "outputs": [],
   "source": [
    "def break_words(stuff):\n",
    "     \"\"\"This function will break up words for us.\"\"\"\n",
    "     words = stuff.split(' ')\n",
    "     return words"
   ]
  },
  {
   "cell_type": "code",
   "execution_count": 2,
   "metadata": {},
   "outputs": [],
   "source": [
    "def sort_words(words):\n",
    "     \"\"\"Sorts the words.\"\"\"\n",
    "     return sorted(words)"
   ]
  },
  {
   "cell_type": "code",
   "execution_count": 3,
   "metadata": {},
   "outputs": [],
   "source": [
    "def print_first_word(words):         #pop is using in list, can't be in a str\n",
    "     \"\"\"Prints the first word after popping it off.\"\"\"\n",
    "     word = break_words(words).pop(0)\n",
    "     print(word)"
   ]
  },
  {
   "cell_type": "code",
   "execution_count": 4,
   "metadata": {},
   "outputs": [],
   "source": [
    "def print_last_word(words):\n",
    "     \"\"\"Prints the last word after popping if off.\"\"\"\n",
    "     word = break_words(words).pop(-1)\n",
    "     print(word)"
   ]
  },
  {
   "cell_type": "code",
   "execution_count": 5,
   "metadata": {},
   "outputs": [],
   "source": [
    "def sort_sentence(sentence):\n",
    "     \"\"\"Takes in a full sentence and returns the sorted words.\"\"\"\n",
    "     words = break_words(sentence)\n",
    "     return sort_words(words)"
   ]
  },
  {
   "cell_type": "code",
   "execution_count": 6,
   "metadata": {},
   "outputs": [],
   "source": [
    "def print_first_and_last(sentence):\n",
    "     \"\"\"Prints the first and last words of the sentence.\"\"\"\n",
    "     words = break_words(sentence)\n",
    "     return words.pop(0), words.pop(-1)"
   ]
  },
  {
   "cell_type": "code",
   "execution_count": 7,
   "metadata": {},
   "outputs": [],
   "source": [
    "def print_first_and_last_sorted(sentence):\n",
    "     \"\"\"Sorts the words then prints the first and last one.\"\"\"\n",
    "     print(sort_sentence(sentence).pop(0))\n",
    "     print(sort_sentence(sentence).pop(-1))\n"
   ]
  },
  {
   "cell_type": "code",
   "execution_count": 9,
   "metadata": {},
   "outputs": [
    {
     "name": "stdout",
     "output_type": "stream",
     "text": [
      "['Logic', 'is', 'my', 'favourite', 'rapper,', 'and', 'he', 'has', 'so', 'many', 'good', 'songs!']\n",
      "[' ', ' ', ' ', ' ', ' ', ' ', ' ', ' ', ' ', ' ', ' ', '!', ',', 'L', 'a', 'a', 'a', 'a', 'a', 'c', 'd', 'd', 'e', 'e', 'e', 'f', 'g', 'g', 'g', 'h', 'h', 'i', 'i', 'i', 'm', 'm', 'n', 'n', 'n', 'o', 'o', 'o', 'o', 'o', 'o', 'p', 'p', 'r', 'r', 'r', 's', 's', 's', 's', 's', 't', 'u', 'v', 'y', 'y']\n",
      "Logic\n",
      "None\n",
      "songs!\n",
      "None\n",
      "['Logic', 'and', 'favourite', 'good', 'has', 'he', 'is', 'many', 'my', 'rapper,', 'so', 'songs!']\n",
      "('Logic', 'songs!')\n",
      "Logic\n",
      "songs!\n",
      "None\n"
     ]
    }
   ],
   "source": [
    "print(break_words('Logic is my favourite rapper, and he has so many good songs!'))\n",
    "print(sort_words('Logic is my favourite rapper, and he has so many good songs!'))\n",
    "print(print_first_word('Logic is my favourite rapper, and he has so many good songs!'))\n",
    "print(print_last_word('Logic is my favourite rapper, and he has so many good songs!'))\n",
    "print(sort_sentence('Logic is my favourite rapper, and he has so many good songs!'))\n",
    "print(print_first_and_last('Logic is my favourite rapper, and he has so many good songs!'))\n",
    "print(print_first_and_last_sorted('Logic is my favourite rapper, and he has so many good songs!'))"
   ]
  }
 ],
 "metadata": {
  "kernelspec": {
   "display_name": "Python 3",
   "language": "python",
   "name": "python3"
  },
  "language_info": {
   "codemirror_mode": {
    "name": "ipython",
    "version": 3
   },
   "file_extension": ".py",
   "mimetype": "text/x-python",
   "name": "python",
   "nbconvert_exporter": "python",
   "pygments_lexer": "ipython3",
   "version": "3.6.5"
  }
 },
 "nbformat": 4,
 "nbformat_minor": 2
}
